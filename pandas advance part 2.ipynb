{
 "cells": [
  {
   "cell_type": "code",
   "execution_count": 1,
   "id": "1b5eaf92-4e1e-4fc7-999b-c3d89d83f0fd",
   "metadata": {},
   "outputs": [],
   "source": [
    "import pandas as pd\n",
    "course_name = ['Data Science', 'Machine Learning', 'Big Data', 'Data Engineer']\n",
    "duration = [2,3,6,4]\n",
    "df = pd.DataFrame(data = {'course_name' : course_name, 'duration' : duration})"
   ]
  },
  {
   "cell_type": "code",
   "execution_count": 2,
   "id": "8031f5a5-5e33-4035-8f35-3dd9ad7e3710",
   "metadata": {},
   "outputs": [
    {
     "data": {
      "text/html": [
       "<div>\n",
       "<style scoped>\n",
       "    .dataframe tbody tr th:only-of-type {\n",
       "        vertical-align: middle;\n",
       "    }\n",
       "\n",
       "    .dataframe tbody tr th {\n",
       "        vertical-align: top;\n",
       "    }\n",
       "\n",
       "    .dataframe thead th {\n",
       "        text-align: right;\n",
       "    }\n",
       "</style>\n",
       "<table border=\"1\" class=\"dataframe\">\n",
       "  <thead>\n",
       "    <tr style=\"text-align: right;\">\n",
       "      <th></th>\n",
       "      <th>course_name</th>\n",
       "      <th>duration</th>\n",
       "    </tr>\n",
       "  </thead>\n",
       "  <tbody>\n",
       "    <tr>\n",
       "      <th>0</th>\n",
       "      <td>Data Science</td>\n",
       "      <td>2</td>\n",
       "    </tr>\n",
       "    <tr>\n",
       "      <th>1</th>\n",
       "      <td>Machine Learning</td>\n",
       "      <td>3</td>\n",
       "    </tr>\n",
       "    <tr>\n",
       "      <th>2</th>\n",
       "      <td>Big Data</td>\n",
       "      <td>6</td>\n",
       "    </tr>\n",
       "    <tr>\n",
       "      <th>3</th>\n",
       "      <td>Data Engineer</td>\n",
       "      <td>4</td>\n",
       "    </tr>\n",
       "  </tbody>\n",
       "</table>\n",
       "</div>"
      ],
      "text/plain": [
       "        course_name  duration\n",
       "0      Data Science         2\n",
       "1  Machine Learning         3\n",
       "2          Big Data         6\n",
       "3     Data Engineer         4"
      ]
     },
     "execution_count": 2,
     "metadata": {},
     "output_type": "execute_result"
    }
   ],
   "source": [
    "df"
   ]
  },
  {
   "cell_type": "markdown",
   "id": "9faf1981-49b2-4441-be96-8d80d2672317",
   "metadata": {},
   "source": [
    "Q1. Write a code to print the data present in the second row of the dataframe, df."
   ]
  },
  {
   "cell_type": "code",
   "execution_count": 3,
   "id": "6b648a2f-1f55-4845-8421-5ad32977cea1",
   "metadata": {},
   "outputs": [
    {
     "data": {
      "text/plain": [
       "course_name    Machine Learning\n",
       "duration                      3\n",
       "Name: 1, dtype: object"
      ]
     },
     "execution_count": 3,
     "metadata": {},
     "output_type": "execute_result"
    }
   ],
   "source": [
    "df.iloc[1]"
   ]
  },
  {
   "cell_type": "markdown",
   "id": "55765150-5623-4069-a426-f8e325355326",
   "metadata": {},
   "source": [
    "Q2. What is the difference between the functions loc and iloc in pandas.DataFrame?"
   ]
  },
  {
   "cell_type": "markdown",
   "id": "f3f04044-90af-4c07-8a69-b221a725e55f",
   "metadata": {},
   "source": [
    "ANS - loc - when we want to select data by row or column labels(names)\n",
    "\n",
    "iloc - when we want to select data by row or column position (integers)"
   ]
  },
  {
   "cell_type": "markdown",
   "id": "4389ee22-da87-4f26-aa50-0fa122db4b68",
   "metadata": {},
   "source": [
    "Q3. Reindex the given dataframe using a variable, reindex = [3,0,1,2] and store it in the variable, new_df\n",
    "then find the output for both new_df.loc[2] and new_df.iloc[2].\n",
    "\n",
    "ANS - "
   ]
  },
  {
   "cell_type": "code",
   "execution_count": 4,
   "id": "5aa0a49a-d2e0-425c-89e9-0fea869e3c04",
   "metadata": {},
   "outputs": [],
   "source": [
    "reindex = [3,0,1,2]\n",
    "\n",
    "new_df = df.reindex(reindex)"
   ]
  },
  {
   "cell_type": "code",
   "execution_count": 5,
   "id": "adb895c9-a498-4843-94ed-3e8625735d9f",
   "metadata": {},
   "outputs": [
    {
     "data": {
      "text/html": [
       "<div>\n",
       "<style scoped>\n",
       "    .dataframe tbody tr th:only-of-type {\n",
       "        vertical-align: middle;\n",
       "    }\n",
       "\n",
       "    .dataframe tbody tr th {\n",
       "        vertical-align: top;\n",
       "    }\n",
       "\n",
       "    .dataframe thead th {\n",
       "        text-align: right;\n",
       "    }\n",
       "</style>\n",
       "<table border=\"1\" class=\"dataframe\">\n",
       "  <thead>\n",
       "    <tr style=\"text-align: right;\">\n",
       "      <th></th>\n",
       "      <th>course_name</th>\n",
       "      <th>duration</th>\n",
       "    </tr>\n",
       "  </thead>\n",
       "  <tbody>\n",
       "    <tr>\n",
       "      <th>3</th>\n",
       "      <td>Data Engineer</td>\n",
       "      <td>4</td>\n",
       "    </tr>\n",
       "    <tr>\n",
       "      <th>0</th>\n",
       "      <td>Data Science</td>\n",
       "      <td>2</td>\n",
       "    </tr>\n",
       "    <tr>\n",
       "      <th>1</th>\n",
       "      <td>Machine Learning</td>\n",
       "      <td>3</td>\n",
       "    </tr>\n",
       "    <tr>\n",
       "      <th>2</th>\n",
       "      <td>Big Data</td>\n",
       "      <td>6</td>\n",
       "    </tr>\n",
       "  </tbody>\n",
       "</table>\n",
       "</div>"
      ],
      "text/plain": [
       "        course_name  duration\n",
       "3     Data Engineer         4\n",
       "0      Data Science         2\n",
       "1  Machine Learning         3\n",
       "2          Big Data         6"
      ]
     },
     "execution_count": 5,
     "metadata": {},
     "output_type": "execute_result"
    }
   ],
   "source": [
    "new_df"
   ]
  },
  {
   "cell_type": "code",
   "execution_count": 6,
   "id": "21bbf067-1eea-41aa-859e-cf3b60247117",
   "metadata": {},
   "outputs": [
    {
     "data": {
      "text/plain": [
       "course_name    Big Data\n",
       "duration              6\n",
       "Name: 2, dtype: object"
      ]
     },
     "execution_count": 6,
     "metadata": {},
     "output_type": "execute_result"
    }
   ],
   "source": [
    "new_df.loc[2]"
   ]
  },
  {
   "cell_type": "code",
   "execution_count": 7,
   "id": "bc163a58-a1d0-4dc6-a6c0-7abf4d43e5e3",
   "metadata": {},
   "outputs": [
    {
     "data": {
      "text/plain": [
       "course_name    Machine Learning\n",
       "duration                      3\n",
       "Name: 1, dtype: object"
      ]
     },
     "execution_count": 7,
     "metadata": {},
     "output_type": "execute_result"
    }
   ],
   "source": [
    "new_df.iloc[2]"
   ]
  },
  {
   "cell_type": "markdown",
   "id": "076f1017-65d7-444a-abc1-9e7153b56db7",
   "metadata": {},
   "source": [
    "Did you observe any difference in both the outputs? If so then explain it.\n",
    "\n",
    "Ans - "
   ]
  },
  {
   "cell_type": "markdown",
   "id": "5d7aa9fb-744f-4441-8bfe-2c1a3bd653a8",
   "metadata": {},
   "source": [
    "yes there is difference \n",
    "\n",
    "new_df.loc[2] - it always uses label based indexing so which remains unchanged from the original DataFrame \n",
    "\n",
    "\n",
    "new_df.iloc[2] - it always uses position based indexing so which now corresponds to the original row"
   ]
  },
  {
   "cell_type": "code",
   "execution_count": 8,
   "id": "5273c97c-72b9-41dd-86b5-7d67f1c86b6f",
   "metadata": {},
   "outputs": [],
   "source": [
    "#Consider the below code to answer further questions:\n",
    "import pandas as pd\n",
    "import numpy as np\n",
    "columns = ['column_1', 'column_2', 'column_3', 'column_4', 'column_5', 'column_6']\n",
    "indices = [1,2,3,4,5,6]\n",
    "#Creating a dataframe:\n",
    "df1 = pd.DataFrame(np.random.rand(6,6), columns = columns, index = indices)"
   ]
  },
  {
   "cell_type": "markdown",
   "id": "d7f805b2-7733-40eb-a5a8-a01f7a01bd24",
   "metadata": {},
   "source": [
    "Q4. Write a code to find the following statistical measurements for the above dataframe df1:\n",
    "(i) mean of each and every column present in the dataframe.\n",
    "(ii) standard deviation of column, ‘column_2’\n",
    "\n",
    "Ans - "
   ]
  },
  {
   "cell_type": "code",
   "execution_count": 9,
   "id": "6cb4edd1-9eb1-4974-93d6-1f8bbb668a39",
   "metadata": {},
   "outputs": [
    {
     "data": {
      "text/html": [
       "<div>\n",
       "<style scoped>\n",
       "    .dataframe tbody tr th:only-of-type {\n",
       "        vertical-align: middle;\n",
       "    }\n",
       "\n",
       "    .dataframe tbody tr th {\n",
       "        vertical-align: top;\n",
       "    }\n",
       "\n",
       "    .dataframe thead th {\n",
       "        text-align: right;\n",
       "    }\n",
       "</style>\n",
       "<table border=\"1\" class=\"dataframe\">\n",
       "  <thead>\n",
       "    <tr style=\"text-align: right;\">\n",
       "      <th></th>\n",
       "      <th>column_1</th>\n",
       "      <th>column_2</th>\n",
       "      <th>column_3</th>\n",
       "      <th>column_4</th>\n",
       "      <th>column_5</th>\n",
       "      <th>column_6</th>\n",
       "    </tr>\n",
       "  </thead>\n",
       "  <tbody>\n",
       "    <tr>\n",
       "      <th>1</th>\n",
       "      <td>0.355825</td>\n",
       "      <td>0.226964</td>\n",
       "      <td>0.726675</td>\n",
       "      <td>0.730545</td>\n",
       "      <td>0.759093</td>\n",
       "      <td>0.099538</td>\n",
       "    </tr>\n",
       "    <tr>\n",
       "      <th>2</th>\n",
       "      <td>0.510014</td>\n",
       "      <td>0.926723</td>\n",
       "      <td>0.369806</td>\n",
       "      <td>0.194788</td>\n",
       "      <td>0.570578</td>\n",
       "      <td>0.520935</td>\n",
       "    </tr>\n",
       "    <tr>\n",
       "      <th>3</th>\n",
       "      <td>0.074552</td>\n",
       "      <td>0.459717</td>\n",
       "      <td>0.053378</td>\n",
       "      <td>0.553890</td>\n",
       "      <td>0.077761</td>\n",
       "      <td>0.114540</td>\n",
       "    </tr>\n",
       "    <tr>\n",
       "      <th>4</th>\n",
       "      <td>0.783884</td>\n",
       "      <td>0.460488</td>\n",
       "      <td>0.176385</td>\n",
       "      <td>0.415623</td>\n",
       "      <td>0.257170</td>\n",
       "      <td>0.889189</td>\n",
       "    </tr>\n",
       "    <tr>\n",
       "      <th>5</th>\n",
       "      <td>0.534595</td>\n",
       "      <td>0.550130</td>\n",
       "      <td>0.468774</td>\n",
       "      <td>0.114976</td>\n",
       "      <td>0.532765</td>\n",
       "      <td>0.454278</td>\n",
       "    </tr>\n",
       "    <tr>\n",
       "      <th>6</th>\n",
       "      <td>0.560135</td>\n",
       "      <td>0.290873</td>\n",
       "      <td>0.085721</td>\n",
       "      <td>0.476462</td>\n",
       "      <td>0.886970</td>\n",
       "      <td>0.360677</td>\n",
       "    </tr>\n",
       "  </tbody>\n",
       "</table>\n",
       "</div>"
      ],
      "text/plain": [
       "   column_1  column_2  column_3  column_4  column_5  column_6\n",
       "1  0.355825  0.226964  0.726675  0.730545  0.759093  0.099538\n",
       "2  0.510014  0.926723  0.369806  0.194788  0.570578  0.520935\n",
       "3  0.074552  0.459717  0.053378  0.553890  0.077761  0.114540\n",
       "4  0.783884  0.460488  0.176385  0.415623  0.257170  0.889189\n",
       "5  0.534595  0.550130  0.468774  0.114976  0.532765  0.454278\n",
       "6  0.560135  0.290873  0.085721  0.476462  0.886970  0.360677"
      ]
     },
     "execution_count": 9,
     "metadata": {},
     "output_type": "execute_result"
    }
   ],
   "source": [
    "df1"
   ]
  },
  {
   "cell_type": "code",
   "execution_count": 10,
   "id": "ebc062b8-568e-4e52-9cb0-f9cbd2a0ccc9",
   "metadata": {},
   "outputs": [
    {
     "data": {
      "text/plain": [
       "column_1    0.469834\n",
       "column_2    0.485816\n",
       "column_3    0.313456\n",
       "column_4    0.414381\n",
       "column_5    0.514056\n",
       "column_6    0.406526\n",
       "dtype: float64"
      ]
     },
     "execution_count": 10,
     "metadata": {},
     "output_type": "execute_result"
    }
   ],
   "source": [
    "#(i)\n",
    "df1.mean()"
   ]
  },
  {
   "cell_type": "code",
   "execution_count": 11,
   "id": "4d28218c-2006-4109-9be3-fa0583400072",
   "metadata": {},
   "outputs": [
    {
     "data": {
      "text/plain": [
       "0.24692711910719756"
      ]
     },
     "execution_count": 11,
     "metadata": {},
     "output_type": "execute_result"
    }
   ],
   "source": [
    "#(ii)\n",
    "df1['column_2'].std()"
   ]
  },
  {
   "cell_type": "markdown",
   "id": "cd57876c-3ae5-475a-9e74-359ebb286a13",
   "metadata": {},
   "source": [
    "Q5. Replace the data present in the second row of column, ‘column_2’ by a string variable then find the\n",
    "mean of column, column_2.\n",
    "If you are getting errors in executing it then explain why.\n",
    "[Hint: To replace the data use df1.loc[] and equate this to string data of your choice.]\n",
    "\n",
    "Ans- "
   ]
  },
  {
   "cell_type": "code",
   "execution_count": 12,
   "id": "29f8860f-8312-4f1c-a257-5cbbf9930c61",
   "metadata": {},
   "outputs": [],
   "source": [
    "x = \"ayush\"\n",
    "df1.loc[2 ,\"column_2\"] = x"
   ]
  },
  {
   "cell_type": "code",
   "execution_count": 13,
   "id": "5737be0a-bf1b-45db-877e-c309568c1430",
   "metadata": {},
   "outputs": [
    {
     "data": {
      "text/html": [
       "<div>\n",
       "<style scoped>\n",
       "    .dataframe tbody tr th:only-of-type {\n",
       "        vertical-align: middle;\n",
       "    }\n",
       "\n",
       "    .dataframe tbody tr th {\n",
       "        vertical-align: top;\n",
       "    }\n",
       "\n",
       "    .dataframe thead th {\n",
       "        text-align: right;\n",
       "    }\n",
       "</style>\n",
       "<table border=\"1\" class=\"dataframe\">\n",
       "  <thead>\n",
       "    <tr style=\"text-align: right;\">\n",
       "      <th></th>\n",
       "      <th>column_1</th>\n",
       "      <th>column_2</th>\n",
       "      <th>column_3</th>\n",
       "      <th>column_4</th>\n",
       "      <th>column_5</th>\n",
       "      <th>column_6</th>\n",
       "    </tr>\n",
       "  </thead>\n",
       "  <tbody>\n",
       "    <tr>\n",
       "      <th>1</th>\n",
       "      <td>0.355825</td>\n",
       "      <td>0.226964</td>\n",
       "      <td>0.726675</td>\n",
       "      <td>0.730545</td>\n",
       "      <td>0.759093</td>\n",
       "      <td>0.099538</td>\n",
       "    </tr>\n",
       "    <tr>\n",
       "      <th>2</th>\n",
       "      <td>0.510014</td>\n",
       "      <td>ayush</td>\n",
       "      <td>0.369806</td>\n",
       "      <td>0.194788</td>\n",
       "      <td>0.570578</td>\n",
       "      <td>0.520935</td>\n",
       "    </tr>\n",
       "    <tr>\n",
       "      <th>3</th>\n",
       "      <td>0.074552</td>\n",
       "      <td>0.459717</td>\n",
       "      <td>0.053378</td>\n",
       "      <td>0.553890</td>\n",
       "      <td>0.077761</td>\n",
       "      <td>0.114540</td>\n",
       "    </tr>\n",
       "    <tr>\n",
       "      <th>4</th>\n",
       "      <td>0.783884</td>\n",
       "      <td>0.460488</td>\n",
       "      <td>0.176385</td>\n",
       "      <td>0.415623</td>\n",
       "      <td>0.257170</td>\n",
       "      <td>0.889189</td>\n",
       "    </tr>\n",
       "    <tr>\n",
       "      <th>5</th>\n",
       "      <td>0.534595</td>\n",
       "      <td>0.55013</td>\n",
       "      <td>0.468774</td>\n",
       "      <td>0.114976</td>\n",
       "      <td>0.532765</td>\n",
       "      <td>0.454278</td>\n",
       "    </tr>\n",
       "    <tr>\n",
       "      <th>6</th>\n",
       "      <td>0.560135</td>\n",
       "      <td>0.290873</td>\n",
       "      <td>0.085721</td>\n",
       "      <td>0.476462</td>\n",
       "      <td>0.886970</td>\n",
       "      <td>0.360677</td>\n",
       "    </tr>\n",
       "  </tbody>\n",
       "</table>\n",
       "</div>"
      ],
      "text/plain": [
       "   column_1  column_2  column_3  column_4  column_5  column_6\n",
       "1  0.355825  0.226964  0.726675  0.730545  0.759093  0.099538\n",
       "2  0.510014     ayush  0.369806  0.194788  0.570578  0.520935\n",
       "3  0.074552  0.459717  0.053378  0.553890  0.077761  0.114540\n",
       "4  0.783884  0.460488  0.176385  0.415623  0.257170  0.889189\n",
       "5  0.534595   0.55013  0.468774  0.114976  0.532765  0.454278\n",
       "6  0.560135  0.290873  0.085721  0.476462  0.886970  0.360677"
      ]
     },
     "execution_count": 13,
     "metadata": {},
     "output_type": "execute_result"
    }
   ],
   "source": [
    "df1"
   ]
  },
  {
   "cell_type": "markdown",
   "id": "1d7889cc-57a1-4eab-8dc5-2483c9af92e5",
   "metadata": {},
   "source": [
    "Q6. What do you understand about the windows function in pandas and list the types of windows\n",
    "functions?\n",
    "\n",
    "Ans - \n"
   ]
  },
  {
   "cell_type": "markdown",
   "id": "05763ff1-c0f1-41df-9a40-11f31798d558",
   "metadata": {},
   "source": [
    "Rolling Window: Useful for computing moving averages and other statistics that consider a fixed number of past observations.\n",
    "\n",
    "\n",
    "Expanding Window: Useful for cumulative statistics that consider all previous data up to the current point.\n",
    "\n",
    "\n",
    "Exponentially Weighted Window: Useful for statistics that give more importance to recent data.\n",
    "\n",
    "\n",
    "Generic Window: Allows for custom window operations using different window types and aggregation methods."
   ]
  },
  {
   "cell_type": "markdown",
   "id": "febed1b6-540f-4d38-bbd5-712032bc1519",
   "metadata": {},
   "source": [
    "Q7. Write a code to print only the current month and year at the time of answering this question.\n",
    "[Hint: Use pandas.datetime function]\n",
    "\n",
    "Ans - "
   ]
  },
  {
   "cell_type": "code",
   "execution_count": 14,
   "id": "03921fc7-234c-4cd3-9c3a-d22496eb3476",
   "metadata": {},
   "outputs": [
    {
     "name": "stdout",
     "output_type": "stream",
     "text": [
      "Current month:  7\n",
      "current year:  2024\n"
     ]
    }
   ],
   "source": [
    "import pandas as pd \n",
    "\n",
    "present_date = pd.Timestamp.now()\n",
    "\n",
    "current_month = present_date.month\n",
    "current_year = present_date.year\n",
    "\n",
    "print(\"Current month: \",current_month)\n",
    "print(\"current year: \",current_year)"
   ]
  },
  {
   "cell_type": "markdown",
   "id": "bfd85a4b-042a-4445-8787-f4c431ef95fb",
   "metadata": {},
   "source": [
    "Q8. Write a Python program that takes in two dates as input (in the format YYYY-MM-DD) and\n",
    "calculates the difference between them in days, hours, and minutes using Pandas time delta. The\n",
    "program should prompt the user to enter the dates and display the result.\n",
    "\n"
   ]
  },
  {
   "cell_type": "code",
   "execution_count": 2,
   "id": "9c5f7c5c-7531-49f0-b7de-80c4970e02d3",
   "metadata": {},
   "outputs": [
    {
     "name": "stdin",
     "output_type": "stream",
     "text": [
      "Date 1 (must be in the format YYYY-MM-DD):  20220511 02:55:33\n",
      "Date 2 (must be in the format YYYY-MM-DD):  20240711 10:44:11\n"
     ]
    },
    {
     "name": "stdout",
     "output_type": "stream",
     "text": [
      "Difference between 20220511 02:55:33 and 20240711 10:44:11:\n",
      "792 days, 7 hours, and 48 minutes\n"
     ]
    }
   ],
   "source": [
    "import pandas as pd\n",
    "\n",
    "dt1 = input(\"Date 1 (must be in the format YYYY-MM-DD): \")\n",
    "dt2 = input(\"Date 2 (must be in the format YYYY-MM-DD): \")\n",
    "\n",
    "date1 = pd.to_datetime(dt1)\n",
    "date2 = pd.to_datetime(dt2)\n",
    "\n",
    "\n",
    "difference = date2 - date1\n",
    "\n",
    "days = difference.days\n",
    "seconds = difference.seconds\n",
    "\n",
    "hours = seconds // 3600\n",
    "minutes = (seconds % 3600) // 60\n",
    "\n",
    "print(f\"Difference between {dt1} and {dt2}:\")\n",
    "print(f\"{days} days, {hours} hours, and {minutes} minutes\")\n"
   ]
  },
  {
   "cell_type": "markdown",
   "id": "1f38290a-76af-4913-84b9-8aaaba0aa3dc",
   "metadata": {},
   "source": [
    "Q9. Write a Python program that reads a CSV file containing categorical data and converts a specified\n",
    "column to a categorical data type. The program should prompt the user to enter the file path, column\n",
    "name, and category order, and then display the sorted data."
   ]
  },
  {
   "cell_type": "code",
   "execution_count": 1,
   "id": "c45d3bff-226d-45a8-a66d-f5754b1efd8c",
   "metadata": {},
   "outputs": [],
   "source": [
    "import pandas as pd\n",
    "\n",
    "\n",
    "data = {\n",
    "    'Name': ['Ayush', \"Simran\", 'Sweta', 'Nirita', 'Rajesh'],\n",
    "    'Category': ['High', 'Low', 'Medium', 'Medium', 'Low']\n",
    "}\n",
    "\n",
    "df = pd.DataFrame(data)\n",
    "\n",
    "\n",
    "df.to_csv('data.csv', index=False)"
   ]
  },
  {
   "cell_type": "code",
   "execution_count": 2,
   "id": "198bed7e-8366-4996-8fbc-4e9ed99211bf",
   "metadata": {},
   "outputs": [
    {
     "data": {
      "text/html": [
       "<div>\n",
       "<style scoped>\n",
       "    .dataframe tbody tr th:only-of-type {\n",
       "        vertical-align: middle;\n",
       "    }\n",
       "\n",
       "    .dataframe tbody tr th {\n",
       "        vertical-align: top;\n",
       "    }\n",
       "\n",
       "    .dataframe thead th {\n",
       "        text-align: right;\n",
       "    }\n",
       "</style>\n",
       "<table border=\"1\" class=\"dataframe\">\n",
       "  <thead>\n",
       "    <tr style=\"text-align: right;\">\n",
       "      <th></th>\n",
       "      <th>Name</th>\n",
       "      <th>Category</th>\n",
       "    </tr>\n",
       "  </thead>\n",
       "  <tbody>\n",
       "    <tr>\n",
       "      <th>0</th>\n",
       "      <td>Ayush</td>\n",
       "      <td>High</td>\n",
       "    </tr>\n",
       "    <tr>\n",
       "      <th>1</th>\n",
       "      <td>Simran</td>\n",
       "      <td>Low</td>\n",
       "    </tr>\n",
       "    <tr>\n",
       "      <th>2</th>\n",
       "      <td>Sweta</td>\n",
       "      <td>Medium</td>\n",
       "    </tr>\n",
       "    <tr>\n",
       "      <th>3</th>\n",
       "      <td>Nirita</td>\n",
       "      <td>Medium</td>\n",
       "    </tr>\n",
       "    <tr>\n",
       "      <th>4</th>\n",
       "      <td>Rajesh</td>\n",
       "      <td>Low</td>\n",
       "    </tr>\n",
       "  </tbody>\n",
       "</table>\n",
       "</div>"
      ],
      "text/plain": [
       "     Name Category\n",
       "0   Ayush     High\n",
       "1  Simran      Low\n",
       "2   Sweta   Medium\n",
       "3  Nirita   Medium\n",
       "4  Rajesh      Low"
      ]
     },
     "execution_count": 2,
     "metadata": {},
     "output_type": "execute_result"
    }
   ],
   "source": [
    "df"
   ]
  },
  {
   "cell_type": "code",
   "execution_count": 1,
   "id": "4cfa8864-0ef8-4d4b-a190-d94093cd7118",
   "metadata": {},
   "outputs": [
    {
     "name": "stdout",
     "output_type": "stream",
     "text": [
      "/home/jovyan/work/data.csv\n"
     ]
    }
   ],
   "source": [
    "import os\n",
    "print(os.path.abspath(\"data.csv\"))"
   ]
  },
  {
   "cell_type": "code",
   "execution_count": 3,
   "id": "e264462a-0e27-42dd-b0dd-fb835d19d82e",
   "metadata": {},
   "outputs": [
    {
     "name": "stdin",
     "output_type": "stream",
     "text": [
      "Enter the file path:  /home/jovyan/work/data.csv\n",
      "Enter the column name to convert to categorical:  Category\n",
      "Enter the category order (comma-separated):  Low,Medium,High\n"
     ]
    },
    {
     "name": "stdout",
     "output_type": "stream",
     "text": [
      "Sorted Data:\n",
      "     Name Category\n",
      "1  Simran      Low\n",
      "4  Rajesh      Low\n",
      "2   Sweta   Medium\n",
      "3  Nirita   Medium\n",
      "0   Ayush     High\n"
     ]
    }
   ],
   "source": [
    "import pandas as pd\n",
    "\n",
    "def convert_column_to_categorical(file_path, column_name, category_order):\n",
    "    try:\n",
    "        \n",
    "        df = pd.read_csv(file_path)\n",
    "        \n",
    "        \n",
    "        if column_name not in df.columns:\n",
    "            print(f\"Column '{column_name}' does not exist in the CSV file.\")\n",
    "            return\n",
    "        \n",
    "        r\n",
    "        df[column_name] = pd.Categorical(df[column_name], categories=category_order, ordered=True)\n",
    "        \n",
    "        \n",
    "        df_sorted = df.sort_values(by=column_name)\n",
    "        \n",
    "        \n",
    "        print(\"Sorted Data:\")\n",
    "        print(df_sorted)\n",
    "    \n",
    "    except FileNotFoundError:\n",
    "        print(f\"The file at '{file_path}' was not found.\")\n",
    "    except Exception as e:\n",
    "        print(f\"An error occurred: {e}\")\n",
    "\n",
    "def main():\n",
    "    \n",
    "    file_path = input(\"Enter the file path: \")\n",
    "    column_name = input(\"Enter the column name to convert to categorical: \")\n",
    "    category_order = input(\"Enter the category order (comma-separated): \").split(',')\n",
    "    \n",
    "    \n",
    "    convert_column_to_categorical(file_path, column_name, category_order)\n",
    "\n",
    "if __name__ == \"__main__\":\n",
    "    main()\n"
   ]
  },
  {
   "cell_type": "markdown",
   "id": "f4612431-a12d-4494-a09d-4c9ff0c96601",
   "metadata": {},
   "source": [
    "Q10. Write a Python program that reads a CSV file containing sales data for different products and\n",
    "visualizes the data using a stacked bar chart to show the sales of each product category over time. The\n",
    "program should prompt the user to enter the file path and display the chart.\n",
    "\n",
    "Ans - \n"
   ]
  },
  {
   "cell_type": "code",
   "execution_count": 4,
   "id": "a99f3f1e-af72-43b5-bbbc-ba2f10efd157",
   "metadata": {},
   "outputs": [
    {
     "name": "stdout",
     "output_type": "stream",
     "text": [
      "Sample CSV file saved to sample_sales_data.csv\n"
     ]
    }
   ],
   "source": [
    "import pandas as pd\n",
    "\n",
    "# Sample data\n",
    "data = {\n",
    "    \"Date\": [\n",
    "        \"2024-01-01\", \"2024-01-01\", \"2024-01-01\",\n",
    "        \"2024-01-02\", \"2024-01-02\", \"2024-01-02\",\n",
    "        \"2024-01-03\", \"2024-01-03\", \"2024-01-03\",\n",
    "        \"2024-01-04\", \"2024-01-04\", \"2024-01-04\"\n",
    "    ],\n",
    "    \"Product Category\": [\n",
    "        \"Electronics\", \"Furniture\", \"Clothing\",\n",
    "        \"Electronics\", \"Furniture\", \"Clothing\",\n",
    "        \"Electronics\", \"Furniture\", \"Clothing\",\n",
    "        \"Electronics\", \"Furniture\", \"Clothing\"\n",
    "    ],\n",
    "    \"Sales\": [\n",
    "        1000, 500, 300,\n",
    "        1500, 700, 400,\n",
    "        2000, 900, 500,\n",
    "        1800, 600, 600\n",
    "    ]\n",
    "}\n",
    "\n",
    "# Create DataFrame\n",
    "df = pd.DataFrame(data)\n",
    "\n",
    "# Save to CSV\n",
    "file_path = 'sample_sales_data.csv'\n",
    "df.to_csv(file_path, index=False)\n",
    "\n",
    "print(f\"Sample CSV file saved to {file_path}\")\n"
   ]
  },
  {
   "cell_type": "code",
   "execution_count": 5,
   "id": "433676aa-f9b8-4ca8-934b-23a19ca9968c",
   "metadata": {},
   "outputs": [
    {
     "name": "stdout",
     "output_type": "stream",
     "text": [
      "Requirement already satisfied: pandas in /opt/conda/lib/python3.10/site-packages (1.5.2)\n",
      "Requirement already satisfied: matplotlib in /opt/conda/lib/python3.10/site-packages (3.6.2)\n",
      "Requirement already satisfied: python-dateutil>=2.8.1 in /opt/conda/lib/python3.10/site-packages (from pandas) (2.8.2)\n",
      "Requirement already satisfied: pytz>=2020.1 in /opt/conda/lib/python3.10/site-packages (from pandas) (2022.6)\n",
      "Requirement already satisfied: numpy>=1.21.0 in /opt/conda/lib/python3.10/site-packages (from pandas) (1.23.5)\n",
      "Requirement already satisfied: pyparsing>=2.2.1 in /opt/conda/lib/python3.10/site-packages (from matplotlib) (3.0.9)\n",
      "Requirement already satisfied: cycler>=0.10 in /opt/conda/lib/python3.10/site-packages (from matplotlib) (0.11.0)\n",
      "Requirement already satisfied: pillow>=6.2.0 in /opt/conda/lib/python3.10/site-packages (from matplotlib) (9.2.0)\n",
      "Requirement already satisfied: kiwisolver>=1.0.1 in /opt/conda/lib/python3.10/site-packages (from matplotlib) (1.4.4)\n",
      "Requirement already satisfied: packaging>=20.0 in /opt/conda/lib/python3.10/site-packages (from matplotlib) (22.0)\n",
      "Requirement already satisfied: fonttools>=4.22.0 in /opt/conda/lib/python3.10/site-packages (from matplotlib) (4.38.0)\n",
      "Requirement already satisfied: contourpy>=1.0.1 in /opt/conda/lib/python3.10/site-packages (from matplotlib) (1.0.6)\n",
      "Requirement already satisfied: six>=1.5 in /opt/conda/lib/python3.10/site-packages (from python-dateutil>=2.8.1->pandas) (1.16.0)\n",
      "Note: you may need to restart the kernel to use updated packages.\n"
     ]
    }
   ],
   "source": [
    "pip install pandas matplotlib\n"
   ]
  },
  {
   "cell_type": "code",
   "execution_count": 2,
   "id": "3dac6eb9-02a2-4503-977c-298ae4f9afbd",
   "metadata": {},
   "outputs": [
    {
     "name": "stdout",
     "output_type": "stream",
     "text": [
      "/home/jovyan/work/sample_sales_data.csv\n"
     ]
    }
   ],
   "source": [
    "   import os\n",
    "   print(os.path.abspath(\"sample_sales_data.csv\"))"
   ]
  },
  {
   "cell_type": "code",
   "execution_count": 3,
   "id": "673ea0ea-6245-4f9f-bb7c-ccdd7a665f1a",
   "metadata": {},
   "outputs": [
    {
     "name": "stdin",
     "output_type": "stream",
     "text": [
      "Enter the file path of the CSV file:  /home/jovyan/work/sample_sales_data.csv\n"
     ]
    },
    {
     "data": {
      "image/png": "[encoded data removed]",
      "text/plain": [
       "<Figure size 1200x800 with 1 Axes>"
      ]
     },
     "metadata": {},
     "output_type": "display_data"
    }
   ],
   "source": [
    "import pandas as pd\n",
    "import matplotlib.pyplot as plt\n",
    "\n",
    "# Function to read the CSV file and process the data\n",
    "def read_and_process_csv(file_path):\n",
    "    # Read the CSV file\n",
    "    data = pd.read_csv(file_path)\n",
    "    \n",
    "    # Ensure the 'Date' column is in datetime format\n",
    "    data['Date'] = pd.to_datetime(data['Date'])\n",
    "    \n",
    "    # Aggregate data by Date and Product Category\n",
    "    aggregated_data = data.groupby(['Date', 'Product Category'])['Sales'].sum().unstack(fill_value=0)\n",
    "    \n",
    "    return aggregated_data\n",
    "\n",
    "# Function to plot the stacked bar chart\n",
    "def plot_stacked_bar_chart(data):\n",
    "    data.plot(kind='bar', stacked=True, figsize=(12, 8))\n",
    "    \n",
    "    plt.title('Sales of Each Product Category Over Time')\n",
    "    plt.xlabel('Date')\n",
    "    plt.ylabel('Sales')\n",
    "    plt.legend(title='Product Category')\n",
    "    plt.tight_layout()\n",
    "    plt.show()\n",
    "\n",
    "# Main function\n",
    "def main():\n",
    "    # Prompt user for the file path\n",
    "    file_path = input(\"Enter the file path of the CSV file: \")\n",
    "    \n",
    "    # Process the CSV file\n",
    "    sales_data = read_and_process_csv(file_path)\n",
    "    \n",
    "    # Plot the data\n",
    "    plot_stacked_bar_chart(sales_data)\n",
    "\n",
    "if __name__ == \"__main__\":\n",
    "    main()\n"
   ]
  },
  {
   "cell_type": "markdown",
   "id": "e0176032-6de8-40c0-9506-cdf406a322fb",
   "metadata": {},
   "source": [
    "Q11. You are given a CSV file containing student data that includes the student ID and their test score. Write\n",
    "a Python program that reads the CSV file, calculates the mean, median, and mode of the test scores, and\n",
    "displays the results in a table.\n",
    "The program should do the followingM\n",
    "I Prompt the user to enter the file path of the CSV file containing the student dataR\n",
    "I Read the CSV file into a Pandas DataFrameR\n",
    "I Calculate the mean, median, and mode of the test scores using Pandas toolsR\n",
    "I Display the mean, median, and mode in a table.\n",
    "Assume the CSV file contains the following columnsM\n",
    "I Student ID: The ID of the studentR\n",
    "I Test Score: The score of the student's test.\n",
    "Example usage of the program:\n",
    "Enter the file path of the CSV file containing the student data: student_data.csv\n",
    "+-----------+--------+\n",
    "| Statistic | Value |\n",
    "+-----------+--------+\n",
    "| Mean | 79.6 |\n",
    "| Median | 82 |\n",
    "| Mode | 85, 90 |\n",
    "+-----------+--------+\n",
    "Assume that the CSV file student_data.csv contains the following data:\n",
    "Student ID,Test Score\n",
    "1,85\n",
    "2,90\n",
    "3,80\n",
    "4,75\n",
    "5,85\n",
    "6,82\n",
    "7,78\n",
    "8,85\n",
    "9,90\n",
    "10,85\n",
    "The program should calculate the mean, median, and mode of the test scores and display the results\n",
    "in a table."
   ]
  },
  {
   "cell_type": "code",
   "execution_count": 3,
   "id": "8334368f-2844-4f07-a6cc-7b6b2620fc76",
   "metadata": {},
   "outputs": [],
   "source": [
    "import pandas as pd \n",
    "\n",
    "student_data ={ \"student id\": [1,2,3,4,5,6,7,8,9,10],\n",
    "               \"test score\" : [85,90,80,75,85,82,78,85,90,85]\n",
    "}\n",
    "\n",
    "# Create DataFrame\n",
    "df = pd.DataFrame(student_data)\n",
    "\n",
    "df.to_csv('student_datas.csv',index=False)"
   ]
  },
  {
   "cell_type": "code",
   "execution_count": 4,
   "id": "ed7b4f63-58ae-4ce6-8cc4-48e164857f41",
   "metadata": {},
   "outputs": [
    {
     "data": {
      "text/html": [
       "<div>\n",
       "<style scoped>\n",
       "    .dataframe tbody tr th:only-of-type {\n",
       "        vertical-align: middle;\n",
       "    }\n",
       "\n",
       "    .dataframe tbody tr th {\n",
       "        vertical-align: top;\n",
       "    }\n",
       "\n",
       "    .dataframe thead th {\n",
       "        text-align: right;\n",
       "    }\n",
       "</style>\n",
       "<table border=\"1\" class=\"dataframe\">\n",
       "  <thead>\n",
       "    <tr style=\"text-align: right;\">\n",
       "      <th></th>\n",
       "      <th>student id</th>\n",
       "      <th>test score</th>\n",
       "    </tr>\n",
       "  </thead>\n",
       "  <tbody>\n",
       "    <tr>\n",
       "      <th>0</th>\n",
       "      <td>1</td>\n",
       "      <td>85</td>\n",
       "    </tr>\n",
       "    <tr>\n",
       "      <th>1</th>\n",
       "      <td>2</td>\n",
       "      <td>90</td>\n",
       "    </tr>\n",
       "    <tr>\n",
       "      <th>2</th>\n",
       "      <td>3</td>\n",
       "      <td>80</td>\n",
       "    </tr>\n",
       "    <tr>\n",
       "      <th>3</th>\n",
       "      <td>4</td>\n",
       "      <td>75</td>\n",
       "    </tr>\n",
       "    <tr>\n",
       "      <th>4</th>\n",
       "      <td>5</td>\n",
       "      <td>85</td>\n",
       "    </tr>\n",
       "    <tr>\n",
       "      <th>5</th>\n",
       "      <td>6</td>\n",
       "      <td>82</td>\n",
       "    </tr>\n",
       "    <tr>\n",
       "      <th>6</th>\n",
       "      <td>7</td>\n",
       "      <td>78</td>\n",
       "    </tr>\n",
       "    <tr>\n",
       "      <th>7</th>\n",
       "      <td>8</td>\n",
       "      <td>85</td>\n",
       "    </tr>\n",
       "    <tr>\n",
       "      <th>8</th>\n",
       "      <td>9</td>\n",
       "      <td>90</td>\n",
       "    </tr>\n",
       "    <tr>\n",
       "      <th>9</th>\n",
       "      <td>10</td>\n",
       "      <td>85</td>\n",
       "    </tr>\n",
       "  </tbody>\n",
       "</table>\n",
       "</div>"
      ],
      "text/plain": [
       "   student id  test score\n",
       "0           1          85\n",
       "1           2          90\n",
       "2           3          80\n",
       "3           4          75\n",
       "4           5          85\n",
       "5           6          82\n",
       "6           7          78\n",
       "7           8          85\n",
       "8           9          90\n",
       "9          10          85"
      ]
     },
     "execution_count": 4,
     "metadata": {},
     "output_type": "execute_result"
    }
   ],
   "source": [
    "df"
   ]
  },
  {
   "cell_type": "code",
   "execution_count": 5,
   "id": "d18b8876-6d9f-4b36-8192-262d4b9cd0ab",
   "metadata": {},
   "outputs": [
    {
     "name": "stdout",
     "output_type": "stream",
     "text": [
      "/home/jovyan/work/student_datas.csv\n"
     ]
    }
   ],
   "source": [
    "   import os\n",
    "   print(os.path.abspath(\"student_datas.csv\"))"
   ]
  },
  {
   "cell_type": "code",
   "execution_count": 10,
   "id": "93ecfe26-2dfd-4bbc-917f-e9c67804a1c1",
   "metadata": {},
   "outputs": [
    {
     "name": "stdin",
     "output_type": "stream",
     "text": [
      "Enter The path of the  csv file /home/jovyan/work/student_datas.csv\n"
     ]
    },
    {
     "data": {
      "text/html": [
       "<div>\n",
       "<style scoped>\n",
       "    .dataframe tbody tr th:only-of-type {\n",
       "        vertical-align: middle;\n",
       "    }\n",
       "\n",
       "    .dataframe tbody tr th {\n",
       "        vertical-align: top;\n",
       "    }\n",
       "\n",
       "    .dataframe thead th {\n",
       "        text-align: right;\n",
       "    }\n",
       "</style>\n",
       "<table border=\"1\" class=\"dataframe\">\n",
       "  <thead>\n",
       "    <tr style=\"text-align: right;\">\n",
       "      <th></th>\n",
       "      <th>Values</th>\n",
       "    </tr>\n",
       "  </thead>\n",
       "  <tbody>\n",
       "    <tr>\n",
       "      <th>mean</th>\n",
       "      <td>83.5</td>\n",
       "    </tr>\n",
       "    <tr>\n",
       "      <th>median</th>\n",
       "      <td>85.0</td>\n",
       "    </tr>\n",
       "    <tr>\n",
       "      <th>mode</th>\n",
       "      <td>[85]</td>\n",
       "    </tr>\n",
       "  </tbody>\n",
       "</table>\n",
       "</div>"
      ],
      "text/plain": [
       "       Values\n",
       "mean     83.5\n",
       "median   85.0\n",
       "mode     [85]"
      ]
     },
     "execution_count": 10,
     "metadata": {},
     "output_type": "execute_result"
    }
   ],
   "source": [
    "file_path = input(\"Enter The path of the  csv file\")\n",
    "\n",
    "students = pd.read_csv(file_path)\n",
    "\n",
    "stats = {\n",
    "    \"mean\" : students[\"test score\"].mean(),\n",
    "    \"median\" : students[\"test score\"].median(),\n",
    "    \"mode\" : students[\"test score\"].mode().values\n",
    "\n",
    "}\n",
    "pd.DataFrame.from_dict(stats, orient='index' ,columns=['Values'])"
   ]
  },
  {
   "cell_type": "code",
   "execution_count": null,
   "id": "8f6ea728-4e2a-4515-999d-71dd2e09cdc8",
   "metadata": {},
   "outputs": [],
   "source": []
  }
 ],
 "metadata": {
  "kernelspec": {
   "display_name": "Python 3 (ipykernel)",
   "language": "python",
   "name": "python3"
  },
  "language_info": {
   "codemirror_mode": {
    "name": "ipython",
    "version": 3
   },
   "file_extension": ".py",
   "mimetype": "text/x-python",
   "name": "python",
   "nbconvert_exporter": "python",
   "pygments_lexer": "ipython3",
   "version": "3.10.8"
  }
 },
 "nbformat": 4,
 "nbformat_minor": 5
}
